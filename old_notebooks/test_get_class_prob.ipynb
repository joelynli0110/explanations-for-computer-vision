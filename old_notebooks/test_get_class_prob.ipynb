{
 "cells": [
  {
   "cell_type": "markdown",
   "metadata": {},
   "source": [
    "### Sample one image from the dataset"
   ]
  },
  {
   "cell_type": "code",
   "execution_count": 1,
   "metadata": {},
   "outputs": [],
   "source": [
    "import torch\n",
    "from detection.pennfudan_dataset import PennFudanDataset, get_transform\n",
    "\n",
    "# use our dataset and defined transformations\n",
    "dataset = PennFudanDataset('./PennFudanPed', get_transform(train=True))\n",
    "dataset_test = PennFudanDataset('./PennFudanPed', get_transform(train=False))\n",
    "\n",
    "# split the dataset in train and test set\n",
    "indices = torch.randperm(len(dataset)).tolist()\n",
    "dataset = torch.utils.data.Subset(dataset, indices[:-50])\n",
    "dataset_test = torch.utils.data.Subset(dataset_test, indices[-50:])"
   ]
  },
  {
   "cell_type": "code",
   "execution_count": 2,
   "metadata": {},
   "outputs": [
    {
     "data": {
      "text/plain": [
       "(tensor([[[0.3451, 0.3255, 0.3216,  ..., 0.5137, 0.6196, 0.5255],\n",
       "          [0.3333, 0.3216, 0.3294,  ..., 0.4471, 0.6157, 0.5961],\n",
       "          [0.3216, 0.3216, 0.3333,  ..., 0.3961, 0.5765, 0.6039],\n",
       "          ...,\n",
       "          [0.7725, 0.7843, 0.7725,  ..., 0.7098, 0.7176, 0.7255],\n",
       "          [0.6706, 0.6824, 0.7059,  ..., 0.7059, 0.7137, 0.7255],\n",
       "          [0.7137, 0.7373, 0.7333,  ..., 0.7216, 0.7216, 0.7176]],\n",
       " \n",
       "         [[0.4039, 0.3843, 0.3765,  ..., 0.5843, 0.7020, 0.6118],\n",
       "          [0.3922, 0.3804, 0.3843,  ..., 0.5137, 0.6980, 0.6784],\n",
       "          [0.3804, 0.3804, 0.3882,  ..., 0.4627, 0.6549, 0.6863],\n",
       "          ...,\n",
       "          [0.7529, 0.7647, 0.7529,  ..., 0.6824, 0.6902, 0.6980],\n",
       "          [0.6510, 0.6627, 0.6863,  ..., 0.6784, 0.6863, 0.6980],\n",
       "          [0.6941, 0.7176, 0.7137,  ..., 0.6941, 0.6941, 0.6902]],\n",
       " \n",
       "         [[0.4863, 0.4588, 0.4275,  ..., 0.4980, 0.6353, 0.5647],\n",
       "          [0.4745, 0.4549, 0.4353,  ..., 0.4392, 0.6392, 0.6431],\n",
       "          [0.4627, 0.4549, 0.4392,  ..., 0.4000, 0.6118, 0.6667],\n",
       "          ...,\n",
       "          [0.7294, 0.7412, 0.7294,  ..., 0.6510, 0.6588, 0.6667],\n",
       "          [0.6275, 0.6392, 0.6627,  ..., 0.6471, 0.6549, 0.6667],\n",
       "          [0.6706, 0.6941, 0.6902,  ..., 0.6627, 0.6627, 0.6588]]]),\n",
       " {'boxes': tensor([[280.,  89., 400., 373.]]),\n",
       "  'labels': tensor([1]),\n",
       "  'masks': tensor([[[0, 0, 0,  ..., 0, 0, 0],\n",
       "           [0, 0, 0,  ..., 0, 0, 0],\n",
       "           [0, 0, 0,  ..., 0, 0, 0],\n",
       "           ...,\n",
       "           [0, 0, 0,  ..., 0, 0, 0],\n",
       "           [0, 0, 0,  ..., 0, 0, 0],\n",
       "           [0, 0, 0,  ..., 0, 0, 0]]], dtype=torch.uint8),\n",
       "  'image_id': tensor([9]),\n",
       "  'area': tensor([34080.]),\n",
       "  'iscrowd': tensor([0])})"
      ]
     },
     "execution_count": 2,
     "metadata": {},
     "output_type": "execute_result"
    }
   ],
   "source": [
    "img,target = dataset_test[0]\n",
    "dataset_test[0]"
   ]
  },
  {
   "cell_type": "markdown",
   "metadata": {},
   "source": [
    "### Run the explainer and output the class probability"
   ]
  },
  {
   "cell_type": "code",
   "execution_count": 3,
   "metadata": {},
   "outputs": [],
   "source": [
    "import warnings \n",
    "warnings.filterwarnings('ignore')"
   ]
  },
  {
   "cell_type": "code",
   "execution_count": 4,
   "metadata": {},
   "outputs": [
    {
     "data": {
      "text/plain": [
       "tensor([0.9987, 0.0013])"
      ]
     },
     "execution_count": 4,
     "metadata": {},
     "output_type": "execute_result"
    }
   ],
   "source": [
    "from src.sodexplainer import SODExplainer\n",
    "explainer = SODExplainer(load_from='./checkpoints/faster_rcnn_10_epochs.ckpt')\n",
    "prob = explainer.get_class_probability(dataset_test[0])\n",
    "prob"
   ]
  },
  {
   "cell_type": "markdown",
   "metadata": {},
   "source": [
    "### Check output \n",
    "#### Compute IoUs"
   ]
  },
  {
   "cell_type": "code",
   "execution_count": 5,
   "metadata": {},
   "outputs": [
    {
     "data": {
      "text/plain": [
       "tensor([[0.9555],\n",
       "        [0.0650]], grad_fn=<DivBackward0>)"
      ]
     },
     "execution_count": 5,
     "metadata": {},
     "output_type": "execute_result"
    }
   ],
   "source": [
    "from src.utils import jaccard\n",
    "prediction = explainer.model(img.unsqueeze(0))\n",
    "ious = jaccard(prediction[0][\"boxes\"],target['boxes'])\n",
    "ious"
   ]
  },
  {
   "cell_type": "markdown",
   "metadata": {},
   "source": [
    "#### Get argmax "
   ]
  },
  {
   "cell_type": "code",
   "execution_count": 6,
   "metadata": {},
   "outputs": [],
   "source": [
    "import numpy as np\n",
    "obj_idx,box_idx = np.unravel_index(torch.argmax(ious), ious.shape)"
   ]
  },
  {
   "cell_type": "code",
   "execution_count": 7,
   "metadata": {},
   "outputs": [
    {
     "data": {
      "text/plain": [
       "{'boxes': tensor([[278.4743,  91.1026, 398.2475, 369.9154],\n",
       "         [260.3747, 207.0027, 296.9782, 347.9638]], grad_fn=<StackBackward0>),\n",
       " 'labels': tensor([1, 1]),\n",
       " 'scores': tensor([0.9987, 0.1899], grad_fn=<IndexBackward0>)}"
      ]
     },
     "execution_count": 7,
     "metadata": {},
     "output_type": "execute_result"
    }
   ],
   "source": [
    "prediction[0]"
   ]
  },
  {
   "cell_type": "code",
   "execution_count": 8,
   "metadata": {},
   "outputs": [
    {
     "data": {
      "text/plain": [
       "tensor(0.9987, grad_fn=<SelectBackward0>)"
      ]
     },
     "execution_count": 8,
     "metadata": {},
     "output_type": "execute_result"
    }
   ],
   "source": [
    "prediction[0]['scores'][box_idx]"
   ]
  },
  {
   "cell_type": "markdown",
   "metadata": {},
   "source": [
    "The score corresponds to the output probability. Done."
   ]
  }
 ],
 "metadata": {
  "kernelspec": {
   "display_name": "Python 3",
   "language": "python",
   "name": "python3"
  },
  "language_info": {
   "codemirror_mode": {
    "name": "ipython",
    "version": 3
   },
   "file_extension": ".py",
   "mimetype": "text/x-python",
   "name": "python",
   "nbconvert_exporter": "python",
   "pygments_lexer": "ipython3",
   "version": "3.8.2"
  }
 },
 "nbformat": 4,
 "nbformat_minor": 4
}
